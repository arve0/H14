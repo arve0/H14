{
 "metadata": {
  "name": "",
  "signature": "sha256:1959f583f5eab224172bd28e62cb48ebcb40ea48006713d0c6b9fd5a033d06f6"
 },
 "nbformat": 3,
 "nbformat_minor": 0,
 "worksheets": [
  {
   "cells": [
    {
     "cell_type": "code",
     "collapsed": false,
     "input": [
      "import sys\n",
      "print(sys.version_info)"
     ],
     "language": "python",
     "metadata": {},
     "outputs": [
      {
       "output_type": "stream",
       "stream": "stdout",
       "text": [
        "sys.version_info(major=3, minor=4, micro=1, releaselevel='final', serial=0)\n"
       ]
      }
     ],
     "prompt_number": 4
    }
   ],
   "metadata": {}
  }
 ]
}