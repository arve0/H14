{
 "metadata": {
  "name": "",
  "signature": "sha256:e6222b34e5e2b75dd32c535a97ead966b1c4c09c306b656efe5c2563db062903"
 },
 "nbformat": 3,
 "nbformat_minor": 0,
 "worksheets": [
  {
   "cells": [
    {
     "cell_type": "code",
     "collapsed": false,
     "input": [
      "from numba import jit\n",
      "from numpy import random"
     ],
     "language": "python",
     "metadata": {},
     "outputs": [],
     "prompt_number": 8
    },
    {
     "cell_type": "code",
     "collapsed": false,
     "input": [
      "# jit decorator tells Numba to compile this function.\n",
      "# The argument types will be inferred by Numba when function is called.\n",
      "@jit\n",
      "def sum2d(arr):\n",
      "    M, N = arr.shape\n",
      "    result = 0.0\n",
      "    for i in range(M):\n",
      "        for j in range(N):\n",
      "            result += arr[i,j]\n",
      "    return result\n",
      "\n",
      "def sum2dpy(arr):\n",
      "    M, N = arr.shape\n",
      "    result = 0.0\n",
      "    for i in range(M):\n",
      "        for j in range(N):\n",
      "            result += arr[i,j]\n",
      "    return result\n",
      "\n",
      "a = random.randint(low=-1e8, high=1e8, size=1e4).reshape(1e2,1e2)\n",
      "%timeit sum2d(a)\n",
      "%timeit sum2dpy(a)\n",
      "%timeit a.sum()"
     ],
     "language": "python",
     "metadata": {},
     "outputs": [
      {
       "output_type": "stream",
       "stream": "stdout",
       "text": [
        "100000 loops, best of 3: 20.5 \u00b5s per loop\n",
        "100 loops, best of 3: 4.55 ms per loop"
       ]
      },
      {
       "output_type": "stream",
       "stream": "stdout",
       "text": [
        "\n",
        "100000 loops, best of 3: 14 \u00b5s per loop"
       ]
      },
      {
       "output_type": "stream",
       "stream": "stdout",
       "text": [
        "\n"
       ]
      }
     ],
     "prompt_number": 13
    }
   ],
   "metadata": {}
  }
 ]
}